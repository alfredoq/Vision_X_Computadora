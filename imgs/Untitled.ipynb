{
 "cells": [
  {
   "cell_type": "code",
   "execution_count": 1,
   "id": "3aaa3126-14a3-49c7-94a0-24a1caa23ba0",
   "metadata": {},
   "outputs": [
    {
     "name": "stderr",
     "output_type": "stream",
     "text": [
      "2022-10-01 07:09:10.911794: I tensorflow/core/platform/cpu_feature_guard.cc:193] This TensorFlow binary is optimized with oneAPI Deep Neural Network Library (oneDNN) to use the following CPU instructions in performance-critical operations:  SSE4.1 SSE4.2 AVX AVX2 FMA\n",
      "To enable them in other operations, rebuild TensorFlow with the appropriate compiler flags.\n"
     ]
    }
   ],
   "source": [
    "from __future__ import absolute_import, division, print_function, unicode_literals\n",
    "\n",
    "# Librerias de ayuda\n",
    "import numpy as np\n",
    "import matplotlib.pyplot as plt\n",
    "\n",
    "# utils to solve exercises\n",
    "from zipfile import ZipFile\n",
    "from pathlib import Path\n",
    "import requests, io, os, fnmatch, cv2\n",
    "from scipy import misc\n",
    "\n",
    "# TensorFlow y tf.keras\n",
    "import tensorflow as tf\n",
    "from tensorflow import keras"
   ]
  },
  {
   "cell_type": "code",
   "execution_count": 2,
   "id": "74d1ccc3-c5ad-4829-b8df-8c1ef2c9b66d",
   "metadata": {},
   "outputs": [],
   "source": [
    "fashion_mnist = keras.datasets.fashion_mnist\n",
    "\n",
    "(train_images, train_labels), (test_images, test_labels) = fashion_mnist.load_data()"
   ]
  },
  {
   "cell_type": "code",
   "execution_count": 15,
   "id": "dedd965e-e135-4a97-9ae8-893c2ad724aa",
   "metadata": {},
   "outputs": [
    {
     "data": {
      "text/plain": [
       "(60000,)"
      ]
     },
     "execution_count": 15,
     "metadata": {},
     "output_type": "execute_result"
    }
   ],
   "source": [
    "train_labels.shape"
   ]
  },
  {
   "cell_type": "code",
   "execution_count": 30,
   "id": "1481ed25-4c4b-4933-81c4-df9cff239169",
   "metadata": {},
   "outputs": [],
   "source": [
    "ankle_boot_images = []\n",
    "for i in range(50):\n",
    "    if train_labels[i] == 9:\n",
    "        ankle_boot_images.append(train_images[i])\n",
    "        "
   ]
  },
  {
   "cell_type": "code",
   "execution_count": 31,
   "id": "6e661387-10b2-45bc-9ca2-622cb511d5f6",
   "metadata": {},
   "outputs": [
    {
     "data": {
      "text/plain": [
       "5"
      ]
     },
     "execution_count": 31,
     "metadata": {},
     "output_type": "execute_result"
    }
   ],
   "source": [
    "\n",
    "len(ankle_boot_images)"
   ]
  },
  {
   "cell_type": "code",
   "execution_count": 43,
   "id": "d5e3fd00-7d7b-40b3-b4da-85ea840dfad0",
   "metadata": {},
   "outputs": [
    {
     "data": {
      "image/png": "[encoded data removed]",
      "text/plain": [
       "<Figure size 640x480 with 1 Axes>"
      ]
     },
     "metadata": {},
     "output_type": "display_data"
    }
   ],
   "source": [
    "fig = plt.figure()\n",
    "plt.imshow(ankle_boot_images[3],cmap=plt.cm.binary)\n",
    "#plt.colorbar()\n",
    "#plt.grid(False)\n",
    "plt.axis('off')\n",
    "plt.show()\n",
    "\n",
    "fig.savefig('fredy.png')"
   ]
  },
  {
   "cell_type": "code",
   "execution_count": 48,
   "id": "108640d0-8235-4dbf-91fc-7ef06f9ec2ad",
   "metadata": {},
   "outputs": [],
   "source": [
    "path= \"/home/fredy/Desktop/VxC/imgs\"\n",
    "fileOfDirectory = os.listdir(path)"
   ]
  },
  {
   "cell_type": "code",
   "execution_count": 49,
   "id": "34ad61c0-4616-4ee3-bc91-2ee9a1828e6d",
   "metadata": {},
   "outputs": [
    {
     "data": {
      "text/plain": [
       "['02-2.bmp',\n",
       " '05-3.bmp',\n",
       " '04-1.bmp',\n",
       " '03-3.bmp',\n",
       " '00-3.bmp',\n",
       " '05-1.bmp',\n",
       " '04-2.bmp',\n",
       " '09-1 - bad.bmp',\n",
       " '05-1 - bad.bmp',\n",
       " '02-1 - bad.bmp',\n",
       " '04-3.bmp',\n",
       " '00-2.bmp',\n",
       " '08-2.bmp',\n",
       " '08-1 - bad.bmp',\n",
       " '08-1.bmp',\n",
       " '06-2.bmp',\n",
       " '02-3.bmp',\n",
       " '04-1 - bad.bmp',\n",
       " '01-2.bmp',\n",
       " '00-1.bmp',\n",
       " '01-3.bmp',\n",
       " '00-6.bmp',\n",
       " '06-3.bmp',\n",
       " '09-3.bmp',\n",
       " '02-1.bmp',\n",
       " '09-2.bmp',\n",
       " '00-1 - bad.bmp',\n",
       " '05-2.bmp',\n",
       " '01-1.bmp',\n",
       " '07-1.bmp',\n",
       " '07-2.bmp',\n",
       " '01-1 - bad.bmp',\n",
       " '06-1.bmp',\n",
       " '03-1.bmp',\n",
       " '06-1 - bad.bmp',\n",
       " '07-1 - bad.bmp',\n",
       " '03-2.bmp',\n",
       " '09-1.bmp',\n",
       " '03-1 - bad.bmp',\n",
       " '07-3.bmp',\n",
       " '08-3.bmp']"
      ]
     },
     "execution_count": 49,
     "metadata": {},
     "output_type": "execute_result"
    }
   ],
   "source": [
    "fileOfDirectory"
   ]
  },
  {
   "cell_type": "code",
   "execution_count": null,
   "id": "09548b4a-b271-4717-a5b1-82ac3bca2e06",
   "metadata": {},
   "outputs": [],
   "source": []
  }
 ],
 "metadata": {
  "kernelspec": {
   "display_name": "Python 3 (ipykernel)",
   "language": "python",
   "name": "python3"
  },
  "language_info": {
   "codemirror_mode": {
    "name": "ipython",
    "version": 3
   },
   "file_extension": ".py",
   "mimetype": "text/x-python",
   "name": "python",
   "nbconvert_exporter": "python",
   "pygments_lexer": "ipython3",
   "version": "3.10.6"
  }
 },
 "nbformat": 4,
 "nbformat_minor": 5
}
